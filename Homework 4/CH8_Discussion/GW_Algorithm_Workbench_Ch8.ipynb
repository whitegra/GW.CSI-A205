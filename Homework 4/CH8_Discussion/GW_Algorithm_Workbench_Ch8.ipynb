{
  "nbformat": 4,
  "nbformat_minor": 0,
  "metadata": {
    "colab": {
      "provenance": []
    },
    "kernelspec": {
      "name": "python3",
      "display_name": "Python 3"
    },
    "language_info": {
      "name": "python"
    }
  },
  "cells": [
    {
      "cell_type": "markdown",
      "source": [
        "Problem #1"
      ],
      "metadata": {
        "id": "cSCAoSeIUNbZ"
      }
    },
    {
      "cell_type": "code",
      "source": [
        "while True:\n",
        "  run_again = input()\n",
        "  if run_again.upper() != 'Y':\n",
        "    break\n",
        "  elif run_again.lower() != 'y':\n",
        "    break"
      ],
      "metadata": {
        "colab": {
          "base_uri": "https://localhost:8080/"
        },
        "id": "1x56A5l4UkmC",
        "outputId": "b51a62fc-10ef-4fe0-b82b-a712dc03662e"
      },
      "execution_count": null,
      "outputs": [
        {
          "name": "stdout",
          "output_type": "stream",
          "text": [
            "no\n"
          ]
        }
      ]
    },
    {
      "cell_type": "markdown",
      "source": [
        "Problem #2"
      ],
      "metadata": {
        "id": "S9Hez5MCVNSO"
      }
    },
    {
      "cell_type": "code",
      "source": [
        "my_string = input()\n",
        "spaces_count = 0\n",
        "for char in my_string:\n",
        "  if char == ' ':\n",
        "    spaces_count += 1\n",
        "print(f\"Number of spaces: {spaces_count}\")"
      ],
      "metadata": {
        "colab": {
          "base_uri": "https://localhost:8080/"
        },
        "id": "FFyksQ-ZURs4",
        "outputId": "02e15a69-4264-405e-9f45-0e4572a2361b"
      },
      "execution_count": null,
      "outputs": [
        {
          "output_type": "stream",
          "name": "stdout",
          "text": [
            "Hello World\n",
            "Number of spaces: 1\n"
          ]
        }
      ]
    },
    {
      "cell_type": "markdown",
      "source": [
        "Problem #3"
      ],
      "metadata": {
        "id": "KzBNxXOoUU_G"
      }
    },
    {
      "cell_type": "code",
      "source": [
        "my_string = input()\n",
        "digit_count = 0\n",
        "for char in my_string:\n",
        "  if char.isdigit():\n",
        "    digit_count += 1\n",
        "print(f\"Number of digits: {digit_count}\")"
      ],
      "metadata": {
        "colab": {
          "base_uri": "https://localhost:8080/"
        },
        "id": "H8aWS30TSFL8",
        "outputId": "6cbc379c-8ef2-40e9-ab7d-d26ef04764a2"
      },
      "execution_count": null,
      "outputs": [
        {
          "output_type": "stream",
          "name": "stdout",
          "text": [
            "123\n",
            "Number of digits: 3\n"
          ]
        }
      ]
    },
    {
      "cell_type": "markdown",
      "source": [
        "Problem #4"
      ],
      "metadata": {
        "id": "02rXPaVZUXvX"
      }
    },
    {
      "cell_type": "code",
      "source": [
        "my_string = input()\n",
        "lowercase_count = 0\n",
        "for char in my_string:\n",
        "  if char.islower():\n",
        "    lowercase_count += 1\n",
        "print(f\"Number of lowercase letters: {lowercase_count}\")"
      ],
      "metadata": {
        "colab": {
          "base_uri": "https://localhost:8080/"
        },
        "id": "UnRyKoCsSKj_",
        "outputId": "3cdc490e-ce07-44ae-e68a-6a8a423097c9"
      },
      "execution_count": null,
      "outputs": [
        {
          "output_type": "stream",
          "name": "stdout",
          "text": [
            "hello\n",
            "Number of lowercase letters: 5\n"
          ]
        }
      ]
    },
    {
      "cell_type": "markdown",
      "source": [
        "Problem #5"
      ],
      "metadata": {
        "id": "p5ze_di4UYxr"
      }
    },
    {
      "cell_type": "code",
      "source": [
        "string = input()\n",
        "if string.endswith('.com'):\n",
        "  print(True)\n",
        "else:\n",
        "  print(False)"
      ],
      "metadata": {
        "colab": {
          "base_uri": "https://localhost:8080/"
        },
        "id": "ad_N8OGoSyw8",
        "outputId": "d23794af-4262-44db-c6b0-7a3249e6d850"
      },
      "execution_count": null,
      "outputs": [
        {
          "output_type": "stream",
          "name": "stdout",
          "text": [
            "hello.com\n",
            "True\n"
          ]
        }
      ]
    },
    {
      "cell_type": "markdown",
      "source": [
        "Problem #6"
      ],
      "metadata": {
        "id": "c1veJYOqUa9m"
      }
    },
    {
      "cell_type": "code",
      "source": [
        "start_string = input()\n",
        "convert_string = start_string[:]\n",
        "converted_string = convert_string.replace('t', 'T')\n",
        "print(converted_string)"
      ],
      "metadata": {
        "colab": {
          "base_uri": "https://localhost:8080/"
        },
        "id": "4HBHX7e8TSgD",
        "outputId": "43b7a872-a670-4269-bd7c-12367c8ab6d2"
      },
      "execution_count": null,
      "outputs": [
        {
          "output_type": "stream",
          "name": "stdout",
          "text": [
            "taco tuesday today \n",
            "Taco Tuesday Today \n"
          ]
        }
      ]
    },
    {
      "cell_type": "markdown",
      "source": [
        "Problem #7:"
      ],
      "metadata": {
        "id": "9MN8gzTNVTn0"
      }
    },
    {
      "cell_type": "code",
      "source": [
        "string = input()\n",
        "backwards_string = string[::-1]\n",
        "print(backwards_string)"
      ],
      "metadata": {
        "colab": {
          "base_uri": "https://localhost:8080/"
        },
        "id": "s-ht3G1gVbMA",
        "outputId": "aa84d820-67d9-4b52-edf2-94de32aac99b"
      },
      "execution_count": null,
      "outputs": [
        {
          "output_type": "stream",
          "name": "stdout",
          "text": [
            "Hello World\n",
            "dlroW olleH\n"
          ]
        }
      ]
    },
    {
      "cell_type": "markdown",
      "source": [
        "Problem #8"
      ],
      "metadata": {
        "id": "6ar8a_ptVh9g"
      }
    },
    {
      "cell_type": "code",
      "source": [
        "my_string = input()\n",
        "print(my_string[0:3])"
      ],
      "metadata": {
        "colab": {
          "base_uri": "https://localhost:8080/"
        },
        "id": "Htz6gBK3VkZO",
        "outputId": "575e48d7-44b0-42e3-a1d3-62de06a5e45d"
      },
      "execution_count": null,
      "outputs": [
        {
          "output_type": "stream",
          "name": "stdout",
          "text": [
            "Hello World\n",
            "Hel\n"
          ]
        }
      ]
    },
    {
      "cell_type": "markdown",
      "source": [
        "Problem #9"
      ],
      "metadata": {
        "id": "mS77gcSbV5Rg"
      }
    },
    {
      "cell_type": "code",
      "source": [
        "my_string = input()\n",
        "print(my_string[-3:])"
      ],
      "metadata": {
        "colab": {
          "base_uri": "https://localhost:8080/"
        },
        "id": "CFjTUmz2V6zz",
        "outputId": "7273cfa4-674e-4941-b653-963ffde88a73"
      },
      "execution_count": null,
      "outputs": [
        {
          "output_type": "stream",
          "name": "stdout",
          "text": [
            "Hello World\n",
            "rld\n"
          ]
        }
      ]
    },
    {
      "cell_type": "markdown",
      "source": [
        "Problem #10"
      ],
      "metadata": {
        "id": "OC-S_cHwWAdv"
      }
    },
    {
      "cell_type": "code",
      "source": [
        "my_string = 'cookies>milk>fudge>cake>ice cream'\n",
        "\n",
        "new_string = my_string.split('>')\n",
        "print(new_string)"
      ],
      "metadata": {
        "colab": {
          "base_uri": "https://localhost:8080/"
        },
        "id": "MRjNNjWkWBzI",
        "outputId": "163bc7d5-50e9-4d06-9235-56f3255f343f"
      },
      "execution_count": null,
      "outputs": [
        {
          "output_type": "stream",
          "name": "stdout",
          "text": [
            "['cookies', 'milk', 'fudge', 'cake', 'ice cream']\n"
          ]
        }
      ]
    }
  ]
}